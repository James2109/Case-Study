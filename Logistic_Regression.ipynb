{
 "cells": [
  {
   "attachments": {},
   "cell_type": "markdown",
   "metadata": {},
   "source": [
    "# Predict successful rate of Bike-share Cyclistic project\n"
   ]
  },
  {
   "attachments": {},
   "cell_type": "markdown",
   "metadata": {},
   "source": [
    "## 👉 Import Libraries"
   ]
  },
  {
   "cell_type": "code",
   "execution_count": 2,
   "metadata": {},
   "outputs": [],
   "source": [
    "import pandas as pd\n",
    "import numpy as np\n",
    "import matplotlib.pyplot as plt\n",
    "import seaborn as sns\n",
    "import warnings\n",
    "warnings.filterwarnings(\"ignore\") # Ignore warning\n",
    "\n",
    "pd.set_option('float_format', '{:2f}'.format) # Show full number instead of show number like \"1.5e2\""
   ]
  },
  {
   "attachments": {},
   "cell_type": "markdown",
   "metadata": {},
   "source": [
    "## 👉 The Data"
   ]
  },
  {
   "cell_type": "code",
   "execution_count": 3,
   "metadata": {},
   "outputs": [],
   "source": [
    "df = pd.read_csv('Data\\\\Qtr1-divvy-tripdata.csv')"
   ]
  },
  {
   "cell_type": "code",
   "execution_count": 4,
   "metadata": {},
   "outputs": [
    {
     "data": {
      "text/html": [
       "<div>\n",
       "<style scoped>\n",
       "    .dataframe tbody tr th:only-of-type {\n",
       "        vertical-align: middle;\n",
       "    }\n",
       "\n",
       "    .dataframe tbody tr th {\n",
       "        vertical-align: top;\n",
       "    }\n",
       "\n",
       "    .dataframe thead th {\n",
       "        text-align: right;\n",
       "    }\n",
       "</style>\n",
       "<table border=\"1\" class=\"dataframe\">\n",
       "  <thead>\n",
       "    <tr style=\"text-align: right;\">\n",
       "      <th></th>\n",
       "      <th>ride_id</th>\n",
       "      <th>rideable_type</th>\n",
       "      <th>started_at</th>\n",
       "      <th>ended_at</th>\n",
       "      <th>start_station_name</th>\n",
       "      <th>start_station_id</th>\n",
       "      <th>end_station_name</th>\n",
       "      <th>end_station_id</th>\n",
       "      <th>start_lat</th>\n",
       "      <th>start_lng</th>\n",
       "      <th>end_lat</th>\n",
       "      <th>end_lng</th>\n",
       "      <th>member_casual</th>\n",
       "    </tr>\n",
       "  </thead>\n",
       "  <tbody>\n",
       "    <tr>\n",
       "      <th>0</th>\n",
       "      <td>F96D5A74A3E41399</td>\n",
       "      <td>electric_bike</td>\n",
       "      <td>21/01/2023 20:05</td>\n",
       "      <td>21/01/2023 20:16</td>\n",
       "      <td>Lincoln Ave &amp; Fullerton Ave</td>\n",
       "      <td>TA1309000058</td>\n",
       "      <td>Hampden Ct &amp; Diversey Ave</td>\n",
       "      <td>202480</td>\n",
       "      <td>41.924074</td>\n",
       "      <td>-87.646278</td>\n",
       "      <td>41.930000</td>\n",
       "      <td>-87.640000</td>\n",
       "      <td>member</td>\n",
       "    </tr>\n",
       "    <tr>\n",
       "      <th>1</th>\n",
       "      <td>13CB7EB698CEDB88</td>\n",
       "      <td>classic_bike</td>\n",
       "      <td>10/01/2023 15:37</td>\n",
       "      <td>10/01/2023 15:46</td>\n",
       "      <td>Kimbark Ave &amp; 53rd St</td>\n",
       "      <td>TA1309000037</td>\n",
       "      <td>Greenwood Ave &amp; 47th St</td>\n",
       "      <td>TA1308000002</td>\n",
       "      <td>41.799568</td>\n",
       "      <td>-87.594747</td>\n",
       "      <td>41.809835</td>\n",
       "      <td>-87.599383</td>\n",
       "      <td>member</td>\n",
       "    </tr>\n",
       "    <tr>\n",
       "      <th>2</th>\n",
       "      <td>BD88A2E670661CE5</td>\n",
       "      <td>electric_bike</td>\n",
       "      <td>02/01/2023 07:51</td>\n",
       "      <td>02/01/2023 08:05</td>\n",
       "      <td>Western Ave &amp; Lunt Ave</td>\n",
       "      <td>RP-005</td>\n",
       "      <td>Valli Produce - Evanston Plaza</td>\n",
       "      <td>599</td>\n",
       "      <td>42.008571</td>\n",
       "      <td>-87.690483</td>\n",
       "      <td>42.039742</td>\n",
       "      <td>-87.699413</td>\n",
       "      <td>casual</td>\n",
       "    </tr>\n",
       "    <tr>\n",
       "      <th>3</th>\n",
       "      <td>C90792D034FED968</td>\n",
       "      <td>classic_bike</td>\n",
       "      <td>22/01/2023 10:52</td>\n",
       "      <td>22/01/2023 11:01</td>\n",
       "      <td>Kimbark Ave &amp; 53rd St</td>\n",
       "      <td>TA1309000037</td>\n",
       "      <td>Greenwood Ave &amp; 47th St</td>\n",
       "      <td>TA1308000002</td>\n",
       "      <td>41.799568</td>\n",
       "      <td>-87.594747</td>\n",
       "      <td>41.809835</td>\n",
       "      <td>-87.599383</td>\n",
       "      <td>member</td>\n",
       "    </tr>\n",
       "    <tr>\n",
       "      <th>4</th>\n",
       "      <td>3397017529188E8A</td>\n",
       "      <td>classic_bike</td>\n",
       "      <td>12/01/2023 13:58</td>\n",
       "      <td>12/01/2023 14:13</td>\n",
       "      <td>Kimbark Ave &amp; 53rd St</td>\n",
       "      <td>TA1309000037</td>\n",
       "      <td>Greenwood Ave &amp; 47th St</td>\n",
       "      <td>TA1308000002</td>\n",
       "      <td>41.799568</td>\n",
       "      <td>-87.594747</td>\n",
       "      <td>41.809835</td>\n",
       "      <td>-87.599383</td>\n",
       "      <td>member</td>\n",
       "    </tr>\n",
       "  </tbody>\n",
       "</table>\n",
       "</div>"
      ],
      "text/plain": [
       "            ride_id  rideable_type        started_at          ended_at  \\\n",
       "0  F96D5A74A3E41399  electric_bike  21/01/2023 20:05  21/01/2023 20:16   \n",
       "1  13CB7EB698CEDB88   classic_bike  10/01/2023 15:37  10/01/2023 15:46   \n",
       "2  BD88A2E670661CE5  electric_bike  02/01/2023 07:51  02/01/2023 08:05   \n",
       "3  C90792D034FED968   classic_bike  22/01/2023 10:52  22/01/2023 11:01   \n",
       "4  3397017529188E8A   classic_bike  12/01/2023 13:58  12/01/2023 14:13   \n",
       "\n",
       "            start_station_name start_station_id  \\\n",
       "0  Lincoln Ave & Fullerton Ave     TA1309000058   \n",
       "1        Kimbark Ave & 53rd St     TA1309000037   \n",
       "2       Western Ave & Lunt Ave           RP-005   \n",
       "3        Kimbark Ave & 53rd St     TA1309000037   \n",
       "4        Kimbark Ave & 53rd St     TA1309000037   \n",
       "\n",
       "                 end_station_name end_station_id  start_lat  start_lng  \\\n",
       "0       Hampden Ct & Diversey Ave         202480  41.924074 -87.646278   \n",
       "1         Greenwood Ave & 47th St   TA1308000002  41.799568 -87.594747   \n",
       "2  Valli Produce - Evanston Plaza            599  42.008571 -87.690483   \n",
       "3         Greenwood Ave & 47th St   TA1308000002  41.799568 -87.594747   \n",
       "4         Greenwood Ave & 47th St   TA1308000002  41.799568 -87.594747   \n",
       "\n",
       "    end_lat    end_lng member_casual  \n",
       "0 41.930000 -87.640000        member  \n",
       "1 41.809835 -87.599383        member  \n",
       "2 42.039742 -87.699413        casual  \n",
       "3 41.809835 -87.599383        member  \n",
       "4 41.809835 -87.599383        member  "
      ]
     },
     "execution_count": 4,
     "metadata": {},
     "output_type": "execute_result"
    }
   ],
   "source": [
    "df.head()"
   ]
  },
  {
   "attachments": {},
   "cell_type": "markdown",
   "metadata": {},
   "source": [
    "## 👉 Data Cleaning"
   ]
  },
  {
   "attachments": {},
   "cell_type": "markdown",
   "metadata": {},
   "source": [
    "### Missing data"
   ]
  },
  {
   "cell_type": "code",
   "execution_count": 5,
   "metadata": {},
   "outputs": [
    {
     "data": {
      "text/plain": [
       "ride_id                   0\n",
       "rideable_type             0\n",
       "started_at                0\n",
       "ended_at                  0\n",
       "start_station_name    88104\n",
       "start_station_id      88236\n",
       "end_station_name      93016\n",
       "end_station_id        93157\n",
       "start_lat                 0\n",
       "start_lng                 0\n",
       "end_lat                 426\n",
       "end_lng                 426\n",
       "member_casual             0\n",
       "dtype: int64"
      ]
     },
     "execution_count": 5,
     "metadata": {},
     "output_type": "execute_result"
    }
   ],
   "source": [
    "df.isna().sum()"
   ]
  },
  {
   "cell_type": "code",
   "execution_count": 6,
   "metadata": {},
   "outputs": [
    {
     "data": {
      "image/png": "[encoded data removed]",
      "text/plain": [
       "<Figure size 1000x500 with 1 Axes>"
      ]
     },
     "metadata": {},
     "output_type": "display_data"
    }
   ],
   "source": [
    "plt.figure(figsize=(10,5))\n",
    "sns.heatmap(df.isnull(),yticklabels=False,cbar=False,cmap='viridis')\n",
    "plt.show()"
   ]
  },
  {
   "attachments": {},
   "cell_type": "markdown",
   "metadata": {},
   "source": [
    "### Remove null data of start_station_id"
   ]
  },
  {
   "cell_type": "code",
   "execution_count": 7,
   "metadata": {},
   "outputs": [],
   "source": [
    "df = df.dropna(subset=['start_station_id'])"
   ]
  },
  {
   "cell_type": "code",
   "execution_count": 8,
   "metadata": {},
   "outputs": [
    {
     "data": {
      "text/plain": [
       "ride_id                   0\n",
       "rideable_type             0\n",
       "started_at                0\n",
       "ended_at                  0\n",
       "start_station_name        0\n",
       "start_station_id          0\n",
       "end_station_name      52771\n",
       "end_station_id        52897\n",
       "start_lat                 0\n",
       "start_lng                 0\n",
       "end_lat                 426\n",
       "end_lng                 426\n",
       "member_casual             0\n",
       "dtype: int64"
      ]
     },
     "execution_count": 8,
     "metadata": {},
     "output_type": "execute_result"
    }
   ],
   "source": [
    "df.isna().sum()"
   ]
  },
  {
   "attachments": {},
   "cell_type": "markdown",
   "metadata": {},
   "source": [
    "### Fill end_lat and end_lng attributes"
   ]
  },
  {
   "cell_type": "code",
   "execution_count": 9,
   "metadata": {},
   "outputs": [
    {
     "data": {
      "text/plain": [
       "(41.89434514, -87.643118)"
      ]
     },
     "execution_count": 9,
     "metadata": {},
     "output_type": "execute_result"
    }
   ],
   "source": [
    "med_end_lat = df['end_lat'].median()\n",
    "med_end_lng = df['end_lng'].median()\n",
    "med_end_lat,med_end_lng"
   ]
  },
  {
   "cell_type": "code",
   "execution_count": 10,
   "metadata": {},
   "outputs": [],
   "source": [
    "df.loc[df['end_lat'].isnull(),'end_lat'] = med_end_lat\n",
    "df.loc[df['end_lng'].isnull(),'end_lng'] = med_end_lng"
   ]
  },
  {
   "cell_type": "code",
   "execution_count": 11,
   "metadata": {},
   "outputs": [
    {
     "data": {
      "text/plain": [
       "ride_id                   0\n",
       "rideable_type             0\n",
       "started_at                0\n",
       "ended_at                  0\n",
       "start_station_name        0\n",
       "start_station_id          0\n",
       "end_station_name      52771\n",
       "end_station_id        52897\n",
       "start_lat                 0\n",
       "start_lng                 0\n",
       "end_lat                   0\n",
       "end_lng                   0\n",
       "member_casual             0\n",
       "dtype: int64"
      ]
     },
     "execution_count": 11,
     "metadata": {},
     "output_type": "execute_result"
    }
   ],
   "source": [
    "df.isna().sum()"
   ]
  },
  {
   "attachments": {},
   "cell_type": "markdown",
   "metadata": {},
   "source": [
    "## Pre-processing data"
   ]
  },
  {
   "attachments": {},
   "cell_type": "markdown",
   "metadata": {},
   "source": [
    "### Transforming categorical data"
   ]
  },
  {
   "cell_type": "code",
   "execution_count": 12,
   "metadata": {},
   "outputs": [
    {
     "data": {
      "text/html": [
       "<div>\n",
       "<style scoped>\n",
       "    .dataframe tbody tr th:only-of-type {\n",
       "        vertical-align: middle;\n",
       "    }\n",
       "\n",
       "    .dataframe tbody tr th {\n",
       "        vertical-align: top;\n",
       "    }\n",
       "\n",
       "    .dataframe thead th {\n",
       "        text-align: right;\n",
       "    }\n",
       "</style>\n",
       "<table border=\"1\" class=\"dataframe\">\n",
       "  <thead>\n",
       "    <tr style=\"text-align: right;\">\n",
       "      <th></th>\n",
       "      <th>ride_id</th>\n",
       "      <th>rideable_type</th>\n",
       "      <th>started_at</th>\n",
       "      <th>ended_at</th>\n",
       "      <th>start_station_name</th>\n",
       "      <th>start_station_id</th>\n",
       "      <th>end_station_name</th>\n",
       "      <th>end_station_id</th>\n",
       "      <th>start_lat</th>\n",
       "      <th>start_lng</th>\n",
       "      <th>end_lat</th>\n",
       "      <th>end_lng</th>\n",
       "      <th>member_casual</th>\n",
       "    </tr>\n",
       "  </thead>\n",
       "  <tbody>\n",
       "    <tr>\n",
       "      <th>0</th>\n",
       "      <td>F96D5A74A3E41399</td>\n",
       "      <td>electric_bike</td>\n",
       "      <td>21/01/2023 20:05</td>\n",
       "      <td>21/01/2023 20:16</td>\n",
       "      <td>Lincoln Ave &amp; Fullerton Ave</td>\n",
       "      <td>TA1309000058</td>\n",
       "      <td>Hampden Ct &amp; Diversey Ave</td>\n",
       "      <td>202480</td>\n",
       "      <td>41.924074</td>\n",
       "      <td>-87.646278</td>\n",
       "      <td>41.930000</td>\n",
       "      <td>-87.640000</td>\n",
       "      <td>member</td>\n",
       "    </tr>\n",
       "    <tr>\n",
       "      <th>1</th>\n",
       "      <td>13CB7EB698CEDB88</td>\n",
       "      <td>classic_bike</td>\n",
       "      <td>10/01/2023 15:37</td>\n",
       "      <td>10/01/2023 15:46</td>\n",
       "      <td>Kimbark Ave &amp; 53rd St</td>\n",
       "      <td>TA1309000037</td>\n",
       "      <td>Greenwood Ave &amp; 47th St</td>\n",
       "      <td>TA1308000002</td>\n",
       "      <td>41.799568</td>\n",
       "      <td>-87.594747</td>\n",
       "      <td>41.809835</td>\n",
       "      <td>-87.599383</td>\n",
       "      <td>member</td>\n",
       "    </tr>\n",
       "    <tr>\n",
       "      <th>2</th>\n",
       "      <td>BD88A2E670661CE5</td>\n",
       "      <td>electric_bike</td>\n",
       "      <td>02/01/2023 07:51</td>\n",
       "      <td>02/01/2023 08:05</td>\n",
       "      <td>Western Ave &amp; Lunt Ave</td>\n",
       "      <td>RP-005</td>\n",
       "      <td>Valli Produce - Evanston Plaza</td>\n",
       "      <td>599</td>\n",
       "      <td>42.008571</td>\n",
       "      <td>-87.690483</td>\n",
       "      <td>42.039742</td>\n",
       "      <td>-87.699413</td>\n",
       "      <td>casual</td>\n",
       "    </tr>\n",
       "    <tr>\n",
       "      <th>3</th>\n",
       "      <td>C90792D034FED968</td>\n",
       "      <td>classic_bike</td>\n",
       "      <td>22/01/2023 10:52</td>\n",
       "      <td>22/01/2023 11:01</td>\n",
       "      <td>Kimbark Ave &amp; 53rd St</td>\n",
       "      <td>TA1309000037</td>\n",
       "      <td>Greenwood Ave &amp; 47th St</td>\n",
       "      <td>TA1308000002</td>\n",
       "      <td>41.799568</td>\n",
       "      <td>-87.594747</td>\n",
       "      <td>41.809835</td>\n",
       "      <td>-87.599383</td>\n",
       "      <td>member</td>\n",
       "    </tr>\n",
       "    <tr>\n",
       "      <th>4</th>\n",
       "      <td>3397017529188E8A</td>\n",
       "      <td>classic_bike</td>\n",
       "      <td>12/01/2023 13:58</td>\n",
       "      <td>12/01/2023 14:13</td>\n",
       "      <td>Kimbark Ave &amp; 53rd St</td>\n",
       "      <td>TA1309000037</td>\n",
       "      <td>Greenwood Ave &amp; 47th St</td>\n",
       "      <td>TA1308000002</td>\n",
       "      <td>41.799568</td>\n",
       "      <td>-87.594747</td>\n",
       "      <td>41.809835</td>\n",
       "      <td>-87.599383</td>\n",
       "      <td>member</td>\n",
       "    </tr>\n",
       "  </tbody>\n",
       "</table>\n",
       "</div>"
      ],
      "text/plain": [
       "            ride_id  rideable_type        started_at          ended_at  \\\n",
       "0  F96D5A74A3E41399  electric_bike  21/01/2023 20:05  21/01/2023 20:16   \n",
       "1  13CB7EB698CEDB88   classic_bike  10/01/2023 15:37  10/01/2023 15:46   \n",
       "2  BD88A2E670661CE5  electric_bike  02/01/2023 07:51  02/01/2023 08:05   \n",
       "3  C90792D034FED968   classic_bike  22/01/2023 10:52  22/01/2023 11:01   \n",
       "4  3397017529188E8A   classic_bike  12/01/2023 13:58  12/01/2023 14:13   \n",
       "\n",
       "            start_station_name start_station_id  \\\n",
       "0  Lincoln Ave & Fullerton Ave     TA1309000058   \n",
       "1        Kimbark Ave & 53rd St     TA1309000037   \n",
       "2       Western Ave & Lunt Ave           RP-005   \n",
       "3        Kimbark Ave & 53rd St     TA1309000037   \n",
       "4        Kimbark Ave & 53rd St     TA1309000037   \n",
       "\n",
       "                 end_station_name end_station_id  start_lat  start_lng  \\\n",
       "0       Hampden Ct & Diversey Ave         202480  41.924074 -87.646278   \n",
       "1         Greenwood Ave & 47th St   TA1308000002  41.799568 -87.594747   \n",
       "2  Valli Produce - Evanston Plaza            599  42.008571 -87.690483   \n",
       "3         Greenwood Ave & 47th St   TA1308000002  41.799568 -87.594747   \n",
       "4         Greenwood Ave & 47th St   TA1308000002  41.799568 -87.594747   \n",
       "\n",
       "    end_lat    end_lng member_casual  \n",
       "0 41.930000 -87.640000        member  \n",
       "1 41.809835 -87.599383        member  \n",
       "2 42.039742 -87.699413        casual  \n",
       "3 41.809835 -87.599383        member  \n",
       "4 41.809835 -87.599383        member  "
      ]
     },
     "execution_count": 12,
     "metadata": {},
     "output_type": "execute_result"
    }
   ],
   "source": [
    "df.head()"
   ]
  },
  {
   "cell_type": "code",
   "execution_count": 13,
   "metadata": {},
   "outputs": [
    {
     "data": {
      "text/plain": [
       "array(['electric_bike', 'classic_bike', 'docked_bike'], dtype=object)"
      ]
     },
     "execution_count": 13,
     "metadata": {},
     "output_type": "execute_result"
    }
   ],
   "source": [
    "df['rideable_type'].unique()"
   ]
  },
  {
   "cell_type": "code",
   "execution_count": 14,
   "metadata": {},
   "outputs": [],
   "source": [
    "#Field 'rideable_type': assinging classic_bike: 0, electric_bike: 1, docked_bike: 2\n",
    "df.loc[df['rideable_type'] == 'classic_bike', 'rideable_type'] = 0\n",
    "df.loc[df['rideable_type'] == 'electric_bike', 'rideable_type'] = 1\n",
    "df.loc[df['rideable_type'] == 'docked_bike', 'rideable_type'] = 2"
   ]
  },
  {
   "cell_type": "code",
   "execution_count": 15,
   "metadata": {},
   "outputs": [],
   "source": [
    "#Field 'member_casual': assinging member: 1, casual: 0\n",
    "df.loc[df['member_casual'] == 'member', 'member_casual'] = 1\n",
    "df.loc[df['member_casual'] == 'casual', 'member_casual'] = 0"
   ]
  },
  {
   "attachments": {},
   "cell_type": "markdown",
   "metadata": {},
   "source": [
    "### Drop unnecessary columns"
   ]
  },
  {
   "cell_type": "code",
   "execution_count": 16,
   "metadata": {},
   "outputs": [
    {
     "data": {
      "text/html": [
       "<div>\n",
       "<style scoped>\n",
       "    .dataframe tbody tr th:only-of-type {\n",
       "        vertical-align: middle;\n",
       "    }\n",
       "\n",
       "    .dataframe tbody tr th {\n",
       "        vertical-align: top;\n",
       "    }\n",
       "\n",
       "    .dataframe thead th {\n",
       "        text-align: right;\n",
       "    }\n",
       "</style>\n",
       "<table border=\"1\" class=\"dataframe\">\n",
       "  <thead>\n",
       "    <tr style=\"text-align: right;\">\n",
       "      <th></th>\n",
       "      <th>ride_id</th>\n",
       "      <th>rideable_type</th>\n",
       "      <th>started_at</th>\n",
       "      <th>ended_at</th>\n",
       "      <th>start_station_name</th>\n",
       "      <th>start_station_id</th>\n",
       "      <th>end_station_name</th>\n",
       "      <th>end_station_id</th>\n",
       "      <th>start_lat</th>\n",
       "      <th>start_lng</th>\n",
       "      <th>end_lat</th>\n",
       "      <th>end_lng</th>\n",
       "      <th>member_casual</th>\n",
       "    </tr>\n",
       "  </thead>\n",
       "  <tbody>\n",
       "    <tr>\n",
       "      <th>0</th>\n",
       "      <td>F96D5A74A3E41399</td>\n",
       "      <td>1</td>\n",
       "      <td>21/01/2023 20:05</td>\n",
       "      <td>21/01/2023 20:16</td>\n",
       "      <td>Lincoln Ave &amp; Fullerton Ave</td>\n",
       "      <td>TA1309000058</td>\n",
       "      <td>Hampden Ct &amp; Diversey Ave</td>\n",
       "      <td>202480</td>\n",
       "      <td>41.924074</td>\n",
       "      <td>-87.646278</td>\n",
       "      <td>41.930000</td>\n",
       "      <td>-87.640000</td>\n",
       "      <td>1</td>\n",
       "    </tr>\n",
       "  </tbody>\n",
       "</table>\n",
       "</div>"
      ],
      "text/plain": [
       "            ride_id rideable_type        started_at          ended_at  \\\n",
       "0  F96D5A74A3E41399             1  21/01/2023 20:05  21/01/2023 20:16   \n",
       "\n",
       "            start_station_name start_station_id           end_station_name  \\\n",
       "0  Lincoln Ave & Fullerton Ave     TA1309000058  Hampden Ct & Diversey Ave   \n",
       "\n",
       "  end_station_id  start_lat  start_lng   end_lat    end_lng member_casual  \n",
       "0         202480  41.924074 -87.646278 41.930000 -87.640000             1  "
      ]
     },
     "execution_count": 16,
     "metadata": {},
     "output_type": "execute_result"
    }
   ],
   "source": [
    "df.head(1)"
   ]
  },
  {
   "cell_type": "code",
   "execution_count": 17,
   "metadata": {},
   "outputs": [],
   "source": [
    "df2 = df.drop(columns=['ride_id','started_at','ended_at','start_station_name','start_station_id','end_station_name','end_station_id'])"
   ]
  },
  {
   "cell_type": "code",
   "execution_count": 18,
   "metadata": {},
   "outputs": [
    {
     "data": {
      "text/html": [
       "<div>\n",
       "<style scoped>\n",
       "    .dataframe tbody tr th:only-of-type {\n",
       "        vertical-align: middle;\n",
       "    }\n",
       "\n",
       "    .dataframe tbody tr th {\n",
       "        vertical-align: top;\n",
       "    }\n",
       "\n",
       "    .dataframe thead th {\n",
       "        text-align: right;\n",
       "    }\n",
       "</style>\n",
       "<table border=\"1\" class=\"dataframe\">\n",
       "  <thead>\n",
       "    <tr style=\"text-align: right;\">\n",
       "      <th></th>\n",
       "      <th>rideable_type</th>\n",
       "      <th>start_lat</th>\n",
       "      <th>start_lng</th>\n",
       "      <th>end_lat</th>\n",
       "      <th>end_lng</th>\n",
       "      <th>member_casual</th>\n",
       "    </tr>\n",
       "  </thead>\n",
       "  <tbody>\n",
       "    <tr>\n",
       "      <th>0</th>\n",
       "      <td>1</td>\n",
       "      <td>41.924074</td>\n",
       "      <td>-87.646278</td>\n",
       "      <td>41.930000</td>\n",
       "      <td>-87.640000</td>\n",
       "      <td>1</td>\n",
       "    </tr>\n",
       "    <tr>\n",
       "      <th>1</th>\n",
       "      <td>0</td>\n",
       "      <td>41.799568</td>\n",
       "      <td>-87.594747</td>\n",
       "      <td>41.809835</td>\n",
       "      <td>-87.599383</td>\n",
       "      <td>1</td>\n",
       "    </tr>\n",
       "    <tr>\n",
       "      <th>2</th>\n",
       "      <td>1</td>\n",
       "      <td>42.008571</td>\n",
       "      <td>-87.690483</td>\n",
       "      <td>42.039742</td>\n",
       "      <td>-87.699413</td>\n",
       "      <td>0</td>\n",
       "    </tr>\n",
       "    <tr>\n",
       "      <th>3</th>\n",
       "      <td>0</td>\n",
       "      <td>41.799568</td>\n",
       "      <td>-87.594747</td>\n",
       "      <td>41.809835</td>\n",
       "      <td>-87.599383</td>\n",
       "      <td>1</td>\n",
       "    </tr>\n",
       "    <tr>\n",
       "      <th>4</th>\n",
       "      <td>0</td>\n",
       "      <td>41.799568</td>\n",
       "      <td>-87.594747</td>\n",
       "      <td>41.809835</td>\n",
       "      <td>-87.599383</td>\n",
       "      <td>1</td>\n",
       "    </tr>\n",
       "  </tbody>\n",
       "</table>\n",
       "</div>"
      ],
      "text/plain": [
       "  rideable_type  start_lat  start_lng   end_lat    end_lng member_casual\n",
       "0             1  41.924074 -87.646278 41.930000 -87.640000             1\n",
       "1             0  41.799568 -87.594747 41.809835 -87.599383             1\n",
       "2             1  42.008571 -87.690483 42.039742 -87.699413             0\n",
       "3             0  41.799568 -87.594747 41.809835 -87.599383             1\n",
       "4             0  41.799568 -87.594747 41.809835 -87.599383             1"
      ]
     },
     "execution_count": 18,
     "metadata": {},
     "output_type": "execute_result"
    }
   ],
   "source": [
    "df2.head()"
   ]
  },
  {
   "cell_type": "code",
   "execution_count": 19,
   "metadata": {},
   "outputs": [],
   "source": [
    "#convert rideable_type and member_casual\n",
    "df2['rideable_type'] = df['rideable_type'].astype(int)\n",
    "df2['member_casual'] = df['member_casual'].astype(int)"
   ]
  },
  {
   "cell_type": "code",
   "execution_count": 20,
   "metadata": {},
   "outputs": [
    {
     "data": {
      "text/html": [
       "<div>\n",
       "<style scoped>\n",
       "    .dataframe tbody tr th:only-of-type {\n",
       "        vertical-align: middle;\n",
       "    }\n",
       "\n",
       "    .dataframe tbody tr th {\n",
       "        vertical-align: top;\n",
       "    }\n",
       "\n",
       "    .dataframe thead th {\n",
       "        text-align: right;\n",
       "    }\n",
       "</style>\n",
       "<table border=\"1\" class=\"dataframe\">\n",
       "  <thead>\n",
       "    <tr style=\"text-align: right;\">\n",
       "      <th></th>\n",
       "      <th>rideable_type</th>\n",
       "      <th>start_lat</th>\n",
       "      <th>start_lng</th>\n",
       "      <th>end_lat</th>\n",
       "      <th>end_lng</th>\n",
       "      <th>member_casual</th>\n",
       "    </tr>\n",
       "  </thead>\n",
       "  <tbody>\n",
       "    <tr>\n",
       "      <th>count</th>\n",
       "      <td>551188.000000</td>\n",
       "      <td>551188.000000</td>\n",
       "      <td>551188.000000</td>\n",
       "      <td>551188.000000</td>\n",
       "      <td>551188.000000</td>\n",
       "      <td>551188.000000</td>\n",
       "    </tr>\n",
       "    <tr>\n",
       "      <th>mean</th>\n",
       "      <td>0.491564</td>\n",
       "      <td>41.897675</td>\n",
       "      <td>-87.645984</td>\n",
       "      <td>41.897979</td>\n",
       "      <td>-87.646353</td>\n",
       "      <td>0.776800</td>\n",
       "    </tr>\n",
       "    <tr>\n",
       "      <th>std</th>\n",
       "      <td>0.524555</td>\n",
       "      <td>0.045581</td>\n",
       "      <td>0.025987</td>\n",
       "      <td>0.045747</td>\n",
       "      <td>0.026266</td>\n",
       "      <td>0.416392</td>\n",
       "    </tr>\n",
       "    <tr>\n",
       "      <th>min</th>\n",
       "      <td>0.000000</td>\n",
       "      <td>41.648501</td>\n",
       "      <td>-87.830000</td>\n",
       "      <td>41.648501</td>\n",
       "      <td>-87.840000</td>\n",
       "      <td>0.000000</td>\n",
       "    </tr>\n",
       "    <tr>\n",
       "      <th>25%</th>\n",
       "      <td>0.000000</td>\n",
       "      <td>41.878350</td>\n",
       "      <td>-87.658971</td>\n",
       "      <td>41.879255</td>\n",
       "      <td>-87.660000</td>\n",
       "      <td>1.000000</td>\n",
       "    </tr>\n",
       "    <tr>\n",
       "      <th>50%</th>\n",
       "      <td>0.000000</td>\n",
       "      <td>41.894306</td>\n",
       "      <td>-87.642984</td>\n",
       "      <td>41.894345</td>\n",
       "      <td>-87.643118</td>\n",
       "      <td>1.000000</td>\n",
       "    </tr>\n",
       "    <tr>\n",
       "      <th>75%</th>\n",
       "      <td>1.000000</td>\n",
       "      <td>41.924841</td>\n",
       "      <td>-87.629764</td>\n",
       "      <td>41.925566</td>\n",
       "      <td>-87.630000</td>\n",
       "      <td>1.000000</td>\n",
       "    </tr>\n",
       "    <tr>\n",
       "      <th>max</th>\n",
       "      <td>2.000000</td>\n",
       "      <td>42.064854</td>\n",
       "      <td>-87.528232</td>\n",
       "      <td>42.080000</td>\n",
       "      <td>-87.528232</td>\n",
       "      <td>1.000000</td>\n",
       "    </tr>\n",
       "  </tbody>\n",
       "</table>\n",
       "</div>"
      ],
      "text/plain": [
       "       rideable_type     start_lat     start_lng       end_lat       end_lng  \\\n",
       "count  551188.000000 551188.000000 551188.000000 551188.000000 551188.000000   \n",
       "mean        0.491564     41.897675    -87.645984     41.897979    -87.646353   \n",
       "std         0.524555      0.045581      0.025987      0.045747      0.026266   \n",
       "min         0.000000     41.648501    -87.830000     41.648501    -87.840000   \n",
       "25%         0.000000     41.878350    -87.658971     41.879255    -87.660000   \n",
       "50%         0.000000     41.894306    -87.642984     41.894345    -87.643118   \n",
       "75%         1.000000     41.924841    -87.629764     41.925566    -87.630000   \n",
       "max         2.000000     42.064854    -87.528232     42.080000    -87.528232   \n",
       "\n",
       "       member_casual  \n",
       "count  551188.000000  \n",
       "mean        0.776800  \n",
       "std         0.416392  \n",
       "min         0.000000  \n",
       "25%         1.000000  \n",
       "50%         1.000000  \n",
       "75%         1.000000  \n",
       "max         1.000000  "
      ]
     },
     "execution_count": 20,
     "metadata": {},
     "output_type": "execute_result"
    }
   ],
   "source": [
    "df2.describe()"
   ]
  },
  {
   "attachments": {},
   "cell_type": "markdown",
   "metadata": {},
   "source": [
    "## 👉 Using SMOTE OVERSAMPLING technique"
   ]
  },
  {
   "cell_type": "code",
   "execution_count": 21,
   "metadata": {},
   "outputs": [
    {
     "data": {
      "text/plain": [
       "1    428163\n",
       "0    123025\n",
       "Name: member_casual, dtype: int64"
      ]
     },
     "execution_count": 21,
     "metadata": {},
     "output_type": "execute_result"
    }
   ],
   "source": [
    "df2['member_casual'].value_counts()"
   ]
  },
  {
   "cell_type": "code",
   "execution_count": 22,
   "metadata": {},
   "outputs": [],
   "source": [
    "X = df2.drop(columns='member_casual')\n",
    "y = df2['member_casual']"
   ]
  },
  {
   "cell_type": "code",
   "execution_count": 59,
   "metadata": {},
   "outputs": [],
   "source": [
    "from imblearn.over_sampling import SMOTE"
   ]
  },
  {
   "cell_type": "code",
   "execution_count": 97,
   "metadata": {},
   "outputs": [],
   "source": [
    "# X và y là các feature và label của dữ liệu\n",
    "smote = SMOTE(k_neighbors = 5, random_state=96)\n",
    "X_resampled, y_resampled = smote.fit_resample(X, y)"
   ]
  },
  {
   "cell_type": "code",
   "execution_count": 98,
   "metadata": {},
   "outputs": [
    {
     "data": {
      "text/plain": [
       "((856326, 5), (856326,))"
      ]
     },
     "execution_count": 98,
     "metadata": {},
     "output_type": "execute_result"
    }
   ],
   "source": [
    "X_resampled.shape, y_resampled.shape"
   ]
  },
  {
   "attachments": {},
   "cell_type": "markdown",
   "metadata": {},
   "source": [
    "## 👉 Building a Logistic Regression model"
   ]
  },
  {
   "cell_type": "code",
   "execution_count": 99,
   "metadata": {},
   "outputs": [],
   "source": [
    "from sklearn.model_selection import train_test_split"
   ]
  },
  {
   "cell_type": "code",
   "execution_count": 100,
   "metadata": {},
   "outputs": [
    {
     "data": {
      "text/plain": [
       "((599428, 5), (599428,), (256898, 5), (256898,))"
      ]
     },
     "execution_count": 100,
     "metadata": {},
     "output_type": "execute_result"
    }
   ],
   "source": [
    "X_train, X_test, y_train, y_test = train_test_split(X_resampled, \n",
    "                                                    y_resampled, \n",
    "                                                    test_size=0.3, \n",
    "                                                    random_state=101,\n",
    "                                                    stratify = y_resampled)\n",
    "\n",
    "X_train.shape, y_train.shape, X_test.shape, y_test.shape"
   ]
  },
  {
   "cell_type": "code",
   "execution_count": 101,
   "metadata": {},
   "outputs": [],
   "source": [
    "# X_train, X_test, y_train, y_test = train_test_split(df2.drop(columns='member_casual'), \n",
    "#                                                     df2['member_casual'], \n",
    "#                                                     test_size=0.2, \n",
    "#                                                     random_state=101)\n",
    "\n",
    "# X_train.shape, y_train.shape, X_test.shape, y_test.shape"
   ]
  },
  {
   "attachments": {},
   "cell_type": "markdown",
   "metadata": {},
   "source": [
    "### Training and Predicting"
   ]
  },
  {
   "cell_type": "code",
   "execution_count": 102,
   "metadata": {},
   "outputs": [],
   "source": [
    "from sklearn.linear_model import LogisticRegression"
   ]
  },
  {
   "cell_type": "code",
   "execution_count": 103,
   "metadata": {},
   "outputs": [
    {
     "data": {
      "text/html": [
       "<style>#sk-container-id-5 {color: black;background-color: white;}#sk-container-id-5 pre{padding: 0;}#sk-container-id-5 div.sk-toggleable {background-color: white;}#sk-container-id-5 label.sk-toggleable__label {cursor: pointer;display: block;width: 100%;margin-bottom: 0;padding: 0.3em;box-sizing: border-box;text-align: center;}#sk-container-id-5 label.sk-toggleable__label-arrow:before {content: \"▸\";float: left;margin-right: 0.25em;color: #696969;}#sk-container-id-5 label.sk-toggleable__label-arrow:hover:before {color: black;}#sk-container-id-5 div.sk-estimator:hover label.sk-toggleable__label-arrow:before {color: black;}#sk-container-id-5 div.sk-toggleable__content {max-height: 0;max-width: 0;overflow: hidden;text-align: left;background-color: #f0f8ff;}#sk-container-id-5 div.sk-toggleable__content pre {margin: 0.2em;color: black;border-radius: 0.25em;background-color: #f0f8ff;}#sk-container-id-5 input.sk-toggleable__control:checked~div.sk-toggleable__content {max-height: 200px;max-width: 100%;overflow: auto;}#sk-container-id-5 input.sk-toggleable__control:checked~label.sk-toggleable__label-arrow:before {content: \"▾\";}#sk-container-id-5 div.sk-estimator input.sk-toggleable__control:checked~label.sk-toggleable__label {background-color: #d4ebff;}#sk-container-id-5 div.sk-label input.sk-toggleable__control:checked~label.sk-toggleable__label {background-color: #d4ebff;}#sk-container-id-5 input.sk-hidden--visually {border: 0;clip: rect(1px 1px 1px 1px);clip: rect(1px, 1px, 1px, 1px);height: 1px;margin: -1px;overflow: hidden;padding: 0;position: absolute;width: 1px;}#sk-container-id-5 div.sk-estimator {font-family: monospace;background-color: #f0f8ff;border: 1px dotted black;border-radius: 0.25em;box-sizing: border-box;margin-bottom: 0.5em;}#sk-container-id-5 div.sk-estimator:hover {background-color: #d4ebff;}#sk-container-id-5 div.sk-parallel-item::after {content: \"\";width: 100%;border-bottom: 1px solid gray;flex-grow: 1;}#sk-container-id-5 div.sk-label:hover label.sk-toggleable__label {background-color: #d4ebff;}#sk-container-id-5 div.sk-serial::before {content: \"\";position: absolute;border-left: 1px solid gray;box-sizing: border-box;top: 0;bottom: 0;left: 50%;z-index: 0;}#sk-container-id-5 div.sk-serial {display: flex;flex-direction: column;align-items: center;background-color: white;padding-right: 0.2em;padding-left: 0.2em;position: relative;}#sk-container-id-5 div.sk-item {position: relative;z-index: 1;}#sk-container-id-5 div.sk-parallel {display: flex;align-items: stretch;justify-content: center;background-color: white;position: relative;}#sk-container-id-5 div.sk-item::before, #sk-container-id-5 div.sk-parallel-item::before {content: \"\";position: absolute;border-left: 1px solid gray;box-sizing: border-box;top: 0;bottom: 0;left: 50%;z-index: -1;}#sk-container-id-5 div.sk-parallel-item {display: flex;flex-direction: column;z-index: 1;position: relative;background-color: white;}#sk-container-id-5 div.sk-parallel-item:first-child::after {align-self: flex-end;width: 50%;}#sk-container-id-5 div.sk-parallel-item:last-child::after {align-self: flex-start;width: 50%;}#sk-container-id-5 div.sk-parallel-item:only-child::after {width: 0;}#sk-container-id-5 div.sk-dashed-wrapped {border: 1px dashed gray;margin: 0 0.4em 0.5em 0.4em;box-sizing: border-box;padding-bottom: 0.4em;background-color: white;}#sk-container-id-5 div.sk-label label {font-family: monospace;font-weight: bold;display: inline-block;line-height: 1.2em;}#sk-container-id-5 div.sk-label-container {text-align: center;}#sk-container-id-5 div.sk-container {/* jupyter's `normalize.less` sets `[hidden] { display: none; }` but bootstrap.min.css set `[hidden] { display: none !important; }` so we also need the `!important` here to be able to override the default hidden behavior on the sphinx rendered scikit-learn.org. See: https://github.com/scikit-learn/scikit-learn/issues/21755 */display: inline-block !important;position: relative;}#sk-container-id-5 div.sk-text-repr-fallback {display: none;}</style><div id=\"sk-container-id-5\" class=\"sk-top-container\"><div class=\"sk-text-repr-fallback\"><pre>LogisticRegression()</pre><b>In a Jupyter environment, please rerun this cell to show the HTML representation or trust the notebook. <br />On GitHub, the HTML representation is unable to render, please try loading this page with nbviewer.org.</b></div><div class=\"sk-container\" hidden><div class=\"sk-item\"><div class=\"sk-estimator sk-toggleable\"><input class=\"sk-toggleable__control sk-hidden--visually\" id=\"sk-estimator-id-5\" type=\"checkbox\" checked><label for=\"sk-estimator-id-5\" class=\"sk-toggleable__label sk-toggleable__label-arrow\">LogisticRegression</label><div class=\"sk-toggleable__content\"><pre>LogisticRegression()</pre></div></div></div></div></div>"
      ],
      "text/plain": [
       "LogisticRegression()"
      ]
     },
     "execution_count": 103,
     "metadata": {},
     "output_type": "execute_result"
    }
   ],
   "source": [
    "logreg1 = LogisticRegression()\n",
    "logreg1.fit(X_train,y_train)"
   ]
  },
  {
   "cell_type": "code",
   "execution_count": 104,
   "metadata": {},
   "outputs": [],
   "source": [
    "# make prediction and return result as label:\n",
    "y_train_pred = logreg1.predict(X_train)\n",
    "y_test_pred = logreg1.predict(X_test)\n",
    "\n",
    "# Make prediction and return result as probability:\n",
    "y_train_pred_prop = logreg1.predict_proba(X_train)\n",
    "y_test_pred_prop = logreg1.predict_proba(X_test)"
   ]
  },
  {
   "cell_type": "code",
   "execution_count": 105,
   "metadata": {},
   "outputs": [
    {
     "name": "stdout",
     "output_type": "stream",
     "text": [
      "Result of \".predict(X_train)\":\n",
      "[1 0 0 1 0]\n",
      "============================================================\n",
      "Result of \".predict_proba(X_train)\":\n",
      "[[0.39981802 0.60018198]\n",
      " [0.57968862 0.42031138]\n",
      " [0.59457329 0.40542671]\n",
      " [0.40753054 0.59246946]\n",
      " [0.58608576 0.41391424]]\n"
     ]
    }
   ],
   "source": [
    "# Let's take a look in our results:\n",
    "print('Result of \".predict(X_train)\":', y_train_pred[:5], sep = '\\n')\n",
    "print('=='*30)\n",
    "print('Result of \".predict_proba(X_train)\":', y_train_pred_prop[:5], sep = '\\n')\n"
   ]
  },
  {
   "attachments": {},
   "cell_type": "markdown",
   "metadata": {},
   "source": [
    "### Change threshold"
   ]
  },
  {
   "cell_type": "code",
   "execution_count": 106,
   "metadata": {},
   "outputs": [
    {
     "data": {
      "text/plain": [
       "array([1, 0, 0, 1, 0])"
      ]
     },
     "execution_count": 106,
     "metadata": {},
     "output_type": "execute_result"
    }
   ],
   "source": [
    "y_train_pred2 = (y_train_pred_prop>=0.5).astype('int')[:, 1]\n",
    "y_train_pred2[:5]"
   ]
  },
  {
   "attachments": {},
   "cell_type": "markdown",
   "metadata": {},
   "source": [
    "## 👉 Model Evaluation Metrics:"
   ]
  },
  {
   "cell_type": "code",
   "execution_count": 107,
   "metadata": {},
   "outputs": [],
   "source": [
    "# Import evaluation metrics:\n",
    "from sklearn.metrics import accuracy_score, confusion_matrix, classification_report"
   ]
  },
  {
   "attachments": {},
   "cell_type": "markdown",
   "metadata": {},
   "source": [
    "###  Accuracy metrics"
   ]
  },
  {
   "cell_type": "code",
   "execution_count": 108,
   "metadata": {},
   "outputs": [
    {
     "data": {
      "text/plain": [
       "0.5792622299925929"
      ]
     },
     "execution_count": 108,
     "metadata": {},
     "output_type": "execute_result"
    }
   ],
   "source": [
    "# Accuracy on trainset:\n",
    "accuracy_score(y_train, y_train_pred)"
   ]
  },
  {
   "cell_type": "code",
   "execution_count": 109,
   "metadata": {},
   "outputs": [
    {
     "data": {
      "text/plain": [
       "0.580039548770329"
      ]
     },
     "execution_count": 109,
     "metadata": {},
     "output_type": "execute_result"
    }
   ],
   "source": [
    "# Accuracy on testset:\n",
    "accuracy_score(y_test, y_test_pred)"
   ]
  },
  {
   "attachments": {},
   "cell_type": "markdown",
   "metadata": {},
   "source": [
    "###  Confusion Matrix"
   ]
  },
  {
   "cell_type": "code",
   "execution_count": 110,
   "metadata": {},
   "outputs": [
    {
     "data": {
      "text/plain": [
       "array([[77475, 50974],\n",
       "       [56913, 71536]], dtype=int64)"
      ]
     },
     "execution_count": 110,
     "metadata": {},
     "output_type": "execute_result"
    }
   ],
   "source": [
    "# Calculating non-normalized confustion matrix on Testset:\n",
    "confusion_matrix(y_test, y_test_pred)"
   ]
  },
  {
   "cell_type": "code",
   "execution_count": 111,
   "metadata": {},
   "outputs": [
    {
     "data": {
      "text/plain": [
       "array([[0.60315767, 0.39684233],\n",
       "       [0.44307858, 0.55692142]])"
      ]
     },
     "execution_count": 111,
     "metadata": {},
     "output_type": "execute_result"
    }
   ],
   "source": [
    "# Normalized confustion matrix on Testset\n",
    "confusion_matrix(y_test, y_test_pred, normalize='true')\n"
   ]
  },
  {
   "cell_type": "code",
   "execution_count": 112,
   "metadata": {},
   "outputs": [
    {
     "data": {
      "image/png": "[encoded data removed]",
      "text/plain": [
       "<Figure size 1100x400 with 4 Axes>"
      ]
     },
     "metadata": {},
     "output_type": "display_data"
    }
   ],
   "source": [
    "plt.figure(figsize = (11, 4))\n",
    "plt.subplot(121)\n",
    "conf_matrix = confusion_matrix(y_test, y_test_pred)\n",
    "df_cm = pd.DataFrame(conf_matrix, columns=np.unique(['Negative (0)', 'Positive (1)']), \n",
    "                     index = np.unique(['Negative (0)', 'Positive (1)']))\n",
    "df_cm.index.name = 'Actual'\n",
    "df_cm.columns.name = 'Predicted'\n",
    "sns.heatmap(df_cm, cmap=\"Blues\", annot=True,annot_kws={\"size\": 16})\n",
    "\n",
    "plt.subplot(122)\n",
    "conf_matrix_norm = confusion_matrix(y_test, y_test_pred, normalize='true')\n",
    "df_cm = pd.DataFrame(conf_matrix_norm, columns=np.unique(['Negative (0)', 'Positive (1)']), \n",
    "                     index = np.unique(['Negative (0)', 'Positive (1)']))\n",
    "df_cm.index.name = 'Actual'\n",
    "df_cm.columns.name = 'Predicted'\n",
    "sns.heatmap(df_cm, cmap=\"Blues\", annot=True,annot_kws={\"size\": 14})\n",
    "plt.suptitle('CONFUSION MATRIX')\n",
    "plt.show()"
   ]
  },
  {
   "cell_type": "code",
   "execution_count": 113,
   "metadata": {},
   "outputs": [
    {
     "name": "stdout",
     "output_type": "stream",
     "text": [
      "              precision    recall  f1-score   support\n",
      "\n",
      "           0       0.58      0.60      0.59    128449\n",
      "           1       0.58      0.56      0.57    128449\n",
      "\n",
      "    accuracy                           0.58    256898\n",
      "   macro avg       0.58      0.58      0.58    256898\n",
      "weighted avg       0.58      0.58      0.58    256898\n",
      "\n"
     ]
    }
   ],
   "source": [
    "print(classification_report(y_test,y_test_pred))"
   ]
  },
  {
   "attachments": {},
   "cell_type": "markdown",
   "metadata": {},
   "source": [
    "## 👉 Predict example"
   ]
  },
  {
   "cell_type": "code",
   "execution_count": 114,
   "metadata": {},
   "outputs": [
    {
     "data": {
      "text/plain": [
       "array([0])"
      ]
     },
     "execution_count": 114,
     "metadata": {},
     "output_type": "execute_result"
    }
   ],
   "source": [
    "# Predict Sales when company pay\n",
    "#step1: create input:\n",
    "ip_arr = np.array([[1,42,-87.6,42,-87.6]])\n",
    "#step2: predict!\n",
    "logreg1.predict(ip_arr)"
   ]
  }
 ],
 "metadata": {
  "kernelspec": {
   "display_name": "Python 3",
   "language": "python",
   "name": "python3"
  },
  "language_info": {
   "codemirror_mode": {
    "name": "ipython",
    "version": 3
   },
   "file_extension": ".py",
   "mimetype": "text/x-python",
   "name": "python",
   "nbconvert_exporter": "python",
   "pygments_lexer": "ipython3",
   "version": "3.10.11"
  },
  "orig_nbformat": 4
 },
 "nbformat": 4,
 "nbformat_minor": 2
}
